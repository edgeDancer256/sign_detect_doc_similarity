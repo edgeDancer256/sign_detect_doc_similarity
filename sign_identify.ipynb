{
 "cells": [
  {
   "attachments": {},
   "cell_type": "markdown",
   "metadata": {},
   "source": [
    "Imports"
   ]
  },
  {
   "cell_type": "code",
   "execution_count": 1,
   "metadata": {},
   "outputs": [],
   "source": [
    "#Some useful modules\n",
    "import pandas as pd\n",
    "import numpy as np\n",
    "import tensorflow as tf\n",
    "\n",
    "import warnings\n",
    "warnings.filterwarnings('ignore')\n",
    "\n",
    "#Modules to configure GPU usage\n",
    "from tensorflow.compat.v1 import ConfigProto\n",
    "from tensorflow.compat.v1 import InteractiveSession\n",
    "\n",
    "#Module to generate the images of the dataset\n",
    "from tensorflow.keras.preprocessing.image import ImageDataGenerator\n",
    "\n",
    "#Modules necessary to implement and train the CNN\n",
    "from tensorflow.keras.layers import Conv2D\n",
    "from tensorflow.keras.layers import Dense\n",
    "from tensorflow.keras.regularizers import l2\n",
    "from tensorflow.keras.models import load_model\n",
    "\n",
    "#Module to preprocess images\n",
    "from tensorflow.keras.preprocessing import image"
   ]
  },
  {
   "attachments": {},
   "cell_type": "markdown",
   "metadata": {},
   "source": [
    "Some Config"
   ]
  },
  {
   "cell_type": "code",
   "execution_count": 2,
   "metadata": {},
   "outputs": [],
   "source": [
    "config = ConfigProto()\n",
    "config.gpu_options.per_process_gpu_memory_fraction = 0.6\n",
    "config.gpu_options.allow_growth = True\n",
    "session = InteractiveSession(config=config)"
   ]
  },
  {
   "attachments": {},
   "cell_type": "markdown",
   "metadata": {},
   "source": [
    "Pre-Processing Data"
   ]
  },
  {
   "attachments": {},
   "cell_type": "markdown",
   "metadata": {},
   "source": [
    "Setting Categories"
   ]
  },
  {
   "cell_type": "code",
   "execution_count": 55,
   "metadata": {},
   "outputs": [],
   "source": [
    "categories = ['SRN('+str(i)+')' for i in range(1, 58)]"
   ]
  },
  {
   "cell_type": "code",
   "execution_count": 56,
   "metadata": {},
   "outputs": [
    {
     "name": "stdout",
     "output_type": "stream",
     "text": [
      "Found 5785 images belonging to 57 classes.\n"
     ]
    }
   ],
   "source": [
    "datagen = ImageDataGenerator(rescale=1./255, shear_range=0.2, zoom_range=0.2, horizontal_flip=True)\n",
    "\n",
    "training_set = datagen.flow_from_directory(\n",
    "        # \"./training_set/training_set/\",\n",
    "        \"../Dataset/Images/\",\n",
    "        target_size = (64, 64),\n",
    "        batch_size = 32,\n",
    "        class_mode = \"categorical\",\n",
    "        classes = categories\n",
    "      )"
   ]
  },
  {
   "cell_type": "code",
   "execution_count": 57,
   "metadata": {},
   "outputs": [
    {
     "name": "stdout",
     "output_type": "stream",
     "text": [
      "Found 5785 images belonging to 57 classes.\n"
     ]
    }
   ],
   "source": [
    "datagen1 = ImageDataGenerator(rescale=1./255, shear_range=0.2, zoom_range=0.2, horizontal_flip=True)\n",
    "\n",
    "test_set = datagen1.flow_from_directory(\n",
    "        # \"./training_set/training_set/\",\n",
    "        \"../Dataset/Images/\",\n",
    "        target_size = (64, 64),\n",
    "        batch_size = 32,\n",
    "        class_mode = \"categorical\",\n",
    "        classes = categories\n",
    "      )"
   ]
  },
  {
   "attachments": {},
   "cell_type": "markdown",
   "metadata": {},
   "source": [
    "CNN Model"
   ]
  },
  {
   "cell_type": "code",
   "execution_count": 59,
   "metadata": {},
   "outputs": [
    {
     "name": "stdout",
     "output_type": "stream",
     "text": [
      "Model: \"sequential_3\"\n",
      "_________________________________________________________________\n",
      " Layer (type)                Output Shape              Param #   \n",
      "=================================================================\n",
      " conv2d_6 (Conv2D)           (None, 32, 32, 32)        896       \n",
      "                                                                 \n",
      " max_pooling2d_6 (MaxPooling  (None, 16, 16, 32)       0         \n",
      " 2D)                                                             \n",
      "                                                                 \n",
      " conv2d_7 (Conv2D)           (None, 16, 16, 32)        9248      \n",
      "                                                                 \n",
      " max_pooling2d_7 (MaxPooling  (None, 8, 8, 32)         0         \n",
      " 2D)                                                             \n",
      "                                                                 \n",
      " flatten_3 (Flatten)         (None, 2048)              0         \n",
      "                                                                 \n",
      " dense_6 (Dense)             (None, 128)               262272    \n",
      "                                                                 \n",
      " dense_7 (Dense)             (None, 57)                7353      \n",
      "                                                                 \n",
      "=================================================================\n",
      "Total params: 279,769\n",
      "Trainable params: 279,769\n",
      "Non-trainable params: 0\n",
      "_________________________________________________________________\n"
     ]
    }
   ],
   "source": [
    "cnn = tf.keras.models.Sequential()\n",
    "#First Convolutional layer\n",
    "cnn.add(tf.keras.layers.Conv2D(filters=32,padding=\"same\",kernel_size=3, activation='relu', strides=2, input_shape=[64, 64, 3]))\n",
    "#Pooling the layer\n",
    "cnn.add(tf.keras.layers.MaxPool2D(pool_size=2, strides=2))\n",
    "#Second Convolutional layer\n",
    "cnn.add(tf.keras.layers.Conv2D(filters=32,padding='same',kernel_size=3, activation='relu'))\n",
    "cnn.add(tf.keras.layers.MaxPool2D(pool_size=2, strides=2))\n",
    "#Flattening the inputs\n",
    "cnn.add(tf.keras.layers.Flatten())\n",
    "#Connecting the layers\n",
    "cnn.add(tf.keras.layers.Dense(units=128, activation='relu'))\n",
    "#Output layer\n",
    "cnn.add(Dense(57, kernel_regularizer=tf.keras.regularizers.l2(0.01),activation='softmax'))\n",
    "#Summary of the model\n",
    "cnn.summary()"
   ]
  },
  {
   "attachments": {},
   "cell_type": "markdown",
   "metadata": {},
   "source": [
    "Training the CNN"
   ]
  },
  {
   "cell_type": "code",
   "execution_count": 60,
   "metadata": {},
   "outputs": [
    {
     "name": "stdout",
     "output_type": "stream",
     "text": [
      "Epoch 1/10\n",
      "181/181 [==============================] - 41s 222ms/step - loss: 3.7563 - accuracy: 0.1409 - val_loss: 2.2939 - val_accuracy: 0.4097\n",
      "Epoch 2/10\n",
      "181/181 [==============================] - 34s 185ms/step - loss: 1.6506 - accuracy: 0.5734 - val_loss: 1.1141 - val_accuracy: 0.7264\n",
      "Epoch 3/10\n",
      "181/181 [==============================] - 47s 262ms/step - loss: 0.9456 - accuracy: 0.7736 - val_loss: 0.8001 - val_accuracy: 0.8143\n",
      "Epoch 4/10\n",
      "181/181 [==============================] - 37s 206ms/step - loss: 0.6409 - accuracy: 0.8595 - val_loss: 0.5653 - val_accuracy: 0.8823\n",
      "Epoch 5/10\n",
      "181/181 [==============================] - 39s 216ms/step - loss: 0.4674 - accuracy: 0.9127 - val_loss: 0.3870 - val_accuracy: 0.9336\n",
      "Epoch 6/10\n",
      "181/181 [==============================] - 42s 230ms/step - loss: 0.3725 - accuracy: 0.9371 - val_loss: 0.2939 - val_accuracy: 0.9627\n",
      "Epoch 7/10\n",
      "181/181 [==============================] - 40s 221ms/step - loss: 0.3008 - accuracy: 0.9604 - val_loss: 0.3076 - val_accuracy: 0.9538\n",
      "Epoch 8/10\n",
      "181/181 [==============================] - 38s 208ms/step - loss: 0.2562 - accuracy: 0.9684 - val_loss: 0.2360 - val_accuracy: 0.9736\n",
      "Epoch 9/10\n",
      "181/181 [==============================] - 41s 226ms/step - loss: 0.2347 - accuracy: 0.9734 - val_loss: 0.2417 - val_accuracy: 0.9647\n",
      "Epoch 10/10\n",
      "181/181 [==============================] - 41s 225ms/step - loss: 0.2148 - accuracy: 0.9758 - val_loss: 0.1793 - val_accuracy: 0.9853\n"
     ]
    }
   ],
   "source": [
    "#Compiling\n",
    "cnn.compile(optimizer = 'adam', loss = 'categorical_crossentropy', metrics = ['accuracy'])\n",
    "#Fitting the model\n",
    "model=cnn.fit(x = training_set, validation_data = test_set, epochs = 10)"
   ]
  },
  {
   "attachments": {},
   "cell_type": "markdown",
   "metadata": {},
   "source": [
    "Plotting the train_loss, validation_loss, train_accuracy, validation_accuracy"
   ]
  },
  {
   "cell_type": "code",
   "execution_count": 61,
   "metadata": {},
   "outputs": [
    {
     "data": {
      "image/png": "[encoded data removed]",
      "text/plain": [
       "<Figure size 432x288 with 1 Axes>"
      ]
     },
     "metadata": {
      "needs_background": "light"
     },
     "output_type": "display_data"
    },
    {
     "data": {
      "image/png": "[encoded data removed]",
      "text/plain": [
       "<Figure size 432x288 with 1 Axes>"
      ]
     },
     "metadata": {
      "needs_background": "light"
     },
     "output_type": "display_data"
    }
   ],
   "source": [
    "import matplotlib.pyplot as plt\n",
    "plt.plot(model.history['loss'], label='train loss')\n",
    "plt.plot(model.history['val_loss'], label='val loss')\n",
    "plt.legend()\n",
    "plt.show()\n",
    "\n",
    "# plot the accuracy\n",
    "plt.plot(model.history['accuracy'], label='train acc')\n",
    "plt.plot(model.history['val_accuracy'], label='val acc')\n",
    "plt.legend()\n",
    "plt.show()"
   ]
  },
  {
   "attachments": {},
   "cell_type": "markdown",
   "metadata": {},
   "source": [
    "Saving the model"
   ]
  },
  {
   "cell_type": "code",
   "execution_count": 62,
   "metadata": {},
   "outputs": [],
   "source": [
    "cnn.save('./model_sign_classifier_58.h5')"
   ]
  }
 ],
 "metadata": {
  "kernelspec": {
   "display_name": "base",
   "language": "python",
   "name": "python3"
  },
  "language_info": {
   "codemirror_mode": {
    "name": "ipython",
    "version": 3
   },
   "file_extension": ".py",
   "mimetype": "text/x-python",
   "name": "python",
   "nbconvert_exporter": "python",
   "pygments_lexer": "ipython3",
   "version": "3.10.9"
  },
  "orig_nbformat": 4
 },
 "nbformat": 4,
 "nbformat_minor": 2
}
